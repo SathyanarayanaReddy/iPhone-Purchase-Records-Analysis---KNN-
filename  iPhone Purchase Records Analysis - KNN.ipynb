{
 "cells": [
  {
   "cell_type": "markdown",
   "id": "9398080a",
   "metadata": {},
   "source": [
    "# Iphone Purchases are getting increased day by day and many stores wants to predict whether a customer will purchase an Iphone "
   ]
  },
  {
   "cell_type": "code",
   "execution_count": 1,
   "id": "0cad15d5",
   "metadata": {},
   "outputs": [],
   "source": [
    "# importing the packages\n",
    "import pandas as pd\n",
    "import sklearn as sk\n",
    "import matplotlib.pyplot as plt\n",
    "import seaborn as sns"
   ]
  },
  {
   "cell_type": "code",
   "execution_count": 2,
   "id": "1c33de91",
   "metadata": {},
   "outputs": [],
   "source": [
    "# reading the data file\n",
    "def read_data():\n",
    "    data = pd.read_csv(\"C:/Top/iphone_purchase_records.csv\")\n",
    "    return data\n"
   ]
  },
  {
   "cell_type": "code",
   "execution_count": 3,
   "id": "5b23d1c1",
   "metadata": {},
   "outputs": [
    {
     "name": "stdout",
     "output_type": "stream",
     "text": [
      "   Gender  Age  Salary  Purchase Iphone\n",
      "0    Male   19   19000                0\n",
      "1    Male   35   20000                0\n",
      "2  Female   26   43000                0\n",
      "3  Female   27   57000                0\n",
      "4    Male   19   76000                0\n"
     ]
    }
   ],
   "source": [
    "# calling the function\n",
    "data= read_data()\n",
    "print(data.head())"
   ]
  },
  {
   "cell_type": "code",
   "execution_count": 4,
   "id": "2da45e9b",
   "metadata": {},
   "outputs": [
    {
     "data": {
      "text/html": [
       "<div>\n",
       "<style scoped>\n",
       "    .dataframe tbody tr th:only-of-type {\n",
       "        vertical-align: middle;\n",
       "    }\n",
       "\n",
       "    .dataframe tbody tr th {\n",
       "        vertical-align: top;\n",
       "    }\n",
       "\n",
       "    .dataframe thead th {\n",
       "        text-align: right;\n",
       "    }\n",
       "</style>\n",
       "<table border=\"1\" class=\"dataframe\">\n",
       "  <thead>\n",
       "    <tr style=\"text-align: right;\">\n",
       "      <th></th>\n",
       "      <th>Gender</th>\n",
       "      <th>Age</th>\n",
       "      <th>Salary</th>\n",
       "      <th>Purchase Iphone</th>\n",
       "    </tr>\n",
       "  </thead>\n",
       "  <tbody>\n",
       "    <tr>\n",
       "      <th>0</th>\n",
       "      <td>Male</td>\n",
       "      <td>19</td>\n",
       "      <td>19000</td>\n",
       "      <td>0</td>\n",
       "    </tr>\n",
       "    <tr>\n",
       "      <th>1</th>\n",
       "      <td>Male</td>\n",
       "      <td>35</td>\n",
       "      <td>20000</td>\n",
       "      <td>0</td>\n",
       "    </tr>\n",
       "    <tr>\n",
       "      <th>2</th>\n",
       "      <td>Female</td>\n",
       "      <td>26</td>\n",
       "      <td>43000</td>\n",
       "      <td>0</td>\n",
       "    </tr>\n",
       "    <tr>\n",
       "      <th>3</th>\n",
       "      <td>Female</td>\n",
       "      <td>27</td>\n",
       "      <td>57000</td>\n",
       "      <td>0</td>\n",
       "    </tr>\n",
       "    <tr>\n",
       "      <th>4</th>\n",
       "      <td>Male</td>\n",
       "      <td>19</td>\n",
       "      <td>76000</td>\n",
       "      <td>0</td>\n",
       "    </tr>\n",
       "    <tr>\n",
       "      <th>...</th>\n",
       "      <td>...</td>\n",
       "      <td>...</td>\n",
       "      <td>...</td>\n",
       "      <td>...</td>\n",
       "    </tr>\n",
       "    <tr>\n",
       "      <th>395</th>\n",
       "      <td>Female</td>\n",
       "      <td>46</td>\n",
       "      <td>41000</td>\n",
       "      <td>1</td>\n",
       "    </tr>\n",
       "    <tr>\n",
       "      <th>396</th>\n",
       "      <td>Male</td>\n",
       "      <td>51</td>\n",
       "      <td>23000</td>\n",
       "      <td>1</td>\n",
       "    </tr>\n",
       "    <tr>\n",
       "      <th>397</th>\n",
       "      <td>Female</td>\n",
       "      <td>50</td>\n",
       "      <td>20000</td>\n",
       "      <td>1</td>\n",
       "    </tr>\n",
       "    <tr>\n",
       "      <th>398</th>\n",
       "      <td>Male</td>\n",
       "      <td>36</td>\n",
       "      <td>33000</td>\n",
       "      <td>0</td>\n",
       "    </tr>\n",
       "    <tr>\n",
       "      <th>399</th>\n",
       "      <td>Female</td>\n",
       "      <td>49</td>\n",
       "      <td>36000</td>\n",
       "      <td>1</td>\n",
       "    </tr>\n",
       "  </tbody>\n",
       "</table>\n",
       "<p>400 rows × 4 columns</p>\n",
       "</div>"
      ],
      "text/plain": [
       "     Gender  Age  Salary  Purchase Iphone\n",
       "0      Male   19   19000                0\n",
       "1      Male   35   20000                0\n",
       "2    Female   26   43000                0\n",
       "3    Female   27   57000                0\n",
       "4      Male   19   76000                0\n",
       "..      ...  ...     ...              ...\n",
       "395  Female   46   41000                1\n",
       "396    Male   51   23000                1\n",
       "397  Female   50   20000                1\n",
       "398    Male   36   33000                0\n",
       "399  Female   49   36000                1\n",
       "\n",
       "[400 rows x 4 columns]"
      ]
     },
     "execution_count": 4,
     "metadata": {},
     "output_type": "execute_result"
    }
   ],
   "source": [
    "data=data.copy()\n",
    "data"
   ]
  },
  {
   "cell_type": "code",
   "execution_count": 5,
   "id": "a2c5f325",
   "metadata": {},
   "outputs": [
    {
     "name": "stdout",
     "output_type": "stream",
     "text": [
      "<class 'pandas.core.frame.DataFrame'>\n",
      "RangeIndex: 400 entries, 0 to 399\n",
      "Data columns (total 4 columns):\n",
      " #   Column           Non-Null Count  Dtype \n",
      "---  ------           --------------  ----- \n",
      " 0   Gender           400 non-null    object\n",
      " 1   Age              400 non-null    int64 \n",
      " 2   Salary           400 non-null    int64 \n",
      " 3   Purchase Iphone  400 non-null    int64 \n",
      "dtypes: int64(3), object(1)\n",
      "memory usage: 12.6+ KB\n"
     ]
    }
   ],
   "source": [
    "data.info()"
   ]
  },
  {
   "cell_type": "code",
   "execution_count": 9,
   "id": "fd7fb56a",
   "metadata": {},
   "outputs": [
    {
     "data": {
      "text/plain": [
       "<Axes: ylabel='Age'>"
      ]
     },
     "execution_count": 9,
     "metadata": {},
     "output_type": "execute_result"
    },
    {
     "data": {
      "image/png": "[encoded data removed]",
      "text/plain": [
       "<Figure size 640x480 with 1 Axes>"
      ]
     },
     "metadata": {},
     "output_type": "display_data"
    }
   ],
   "source": [
    "#Exploratory Data Analysis\n",
    "sns.boxplot(y='Age',data=data)"
   ]
  },
  {
   "cell_type": "code",
   "execution_count": 10,
   "id": "117d4ec5",
   "metadata": {},
   "outputs": [
    {
     "data": {
      "text/plain": [
       "<Axes: xlabel='Gender', ylabel='Age'>"
      ]
     },
     "execution_count": 10,
     "metadata": {},
     "output_type": "execute_result"
    },
    {
     "data": {
      "image/png": "[encoded data removed]",
      "text/plain": [
       "<Figure size 640x480 with 1 Axes>"
      ]
     },
     "metadata": {},
     "output_type": "display_data"
    }
   ],
   "source": [
    "sns.boxplot(x='Gender',y='Age',data=data)"
   ]
  },
  {
   "cell_type": "code",
   "execution_count": 11,
   "id": "499cf795",
   "metadata": {},
   "outputs": [
    {
     "data": {
      "text/html": [
       "<div>\n",
       "<style scoped>\n",
       "    .dataframe tbody tr th:only-of-type {\n",
       "        vertical-align: middle;\n",
       "    }\n",
       "\n",
       "    .dataframe tbody tr th {\n",
       "        vertical-align: top;\n",
       "    }\n",
       "\n",
       "    .dataframe thead th {\n",
       "        text-align: right;\n",
       "    }\n",
       "</style>\n",
       "<table border=\"1\" class=\"dataframe\">\n",
       "  <thead>\n",
       "    <tr style=\"text-align: right;\">\n",
       "      <th></th>\n",
       "      <th>Gender</th>\n",
       "      <th>Age</th>\n",
       "      <th>Salary</th>\n",
       "      <th>Purchase Iphone</th>\n",
       "    </tr>\n",
       "  </thead>\n",
       "  <tbody>\n",
       "    <tr>\n",
       "      <th>0</th>\n",
       "      <td>Male</td>\n",
       "      <td>19</td>\n",
       "      <td>19000</td>\n",
       "      <td>0</td>\n",
       "    </tr>\n",
       "    <tr>\n",
       "      <th>1</th>\n",
       "      <td>Male</td>\n",
       "      <td>35</td>\n",
       "      <td>20000</td>\n",
       "      <td>0</td>\n",
       "    </tr>\n",
       "    <tr>\n",
       "      <th>4</th>\n",
       "      <td>Male</td>\n",
       "      <td>19</td>\n",
       "      <td>76000</td>\n",
       "      <td>0</td>\n",
       "    </tr>\n",
       "    <tr>\n",
       "      <th>5</th>\n",
       "      <td>Male</td>\n",
       "      <td>27</td>\n",
       "      <td>58000</td>\n",
       "      <td>0</td>\n",
       "    </tr>\n",
       "    <tr>\n",
       "      <th>8</th>\n",
       "      <td>Male</td>\n",
       "      <td>25</td>\n",
       "      <td>33000</td>\n",
       "      <td>0</td>\n",
       "    </tr>\n",
       "    <tr>\n",
       "      <th>...</th>\n",
       "      <td>...</td>\n",
       "      <td>...</td>\n",
       "      <td>...</td>\n",
       "      <td>...</td>\n",
       "    </tr>\n",
       "    <tr>\n",
       "      <th>390</th>\n",
       "      <td>Male</td>\n",
       "      <td>48</td>\n",
       "      <td>33000</td>\n",
       "      <td>1</td>\n",
       "    </tr>\n",
       "    <tr>\n",
       "      <th>391</th>\n",
       "      <td>Male</td>\n",
       "      <td>47</td>\n",
       "      <td>23000</td>\n",
       "      <td>1</td>\n",
       "    </tr>\n",
       "    <tr>\n",
       "      <th>393</th>\n",
       "      <td>Male</td>\n",
       "      <td>60</td>\n",
       "      <td>42000</td>\n",
       "      <td>1</td>\n",
       "    </tr>\n",
       "    <tr>\n",
       "      <th>396</th>\n",
       "      <td>Male</td>\n",
       "      <td>51</td>\n",
       "      <td>23000</td>\n",
       "      <td>1</td>\n",
       "    </tr>\n",
       "    <tr>\n",
       "      <th>398</th>\n",
       "      <td>Male</td>\n",
       "      <td>36</td>\n",
       "      <td>33000</td>\n",
       "      <td>0</td>\n",
       "    </tr>\n",
       "  </tbody>\n",
       "</table>\n",
       "<p>196 rows × 4 columns</p>\n",
       "</div>"
      ],
      "text/plain": [
       "    Gender  Age  Salary  Purchase Iphone\n",
       "0     Male   19   19000                0\n",
       "1     Male   35   20000                0\n",
       "4     Male   19   76000                0\n",
       "5     Male   27   58000                0\n",
       "8     Male   25   33000                0\n",
       "..     ...  ...     ...              ...\n",
       "390   Male   48   33000                1\n",
       "391   Male   47   23000                1\n",
       "393   Male   60   42000                1\n",
       "396   Male   51   23000                1\n",
       "398   Male   36   33000                0\n",
       "\n",
       "[196 rows x 4 columns]"
      ]
     },
     "execution_count": 11,
     "metadata": {},
     "output_type": "execute_result"
    }
   ],
   "source": [
    "male = data[data['Gender']=='Male']\n",
    "male"
   ]
  },
  {
   "cell_type": "code",
   "execution_count": 12,
   "id": "c23ca57a",
   "metadata": {},
   "outputs": [
    {
     "data": {
      "text/html": [
       "<div>\n",
       "<style scoped>\n",
       "    .dataframe tbody tr th:only-of-type {\n",
       "        vertical-align: middle;\n",
       "    }\n",
       "\n",
       "    .dataframe tbody tr th {\n",
       "        vertical-align: top;\n",
       "    }\n",
       "\n",
       "    .dataframe thead th {\n",
       "        text-align: right;\n",
       "    }\n",
       "</style>\n",
       "<table border=\"1\" class=\"dataframe\">\n",
       "  <thead>\n",
       "    <tr style=\"text-align: right;\">\n",
       "      <th></th>\n",
       "      <th>Gender</th>\n",
       "      <th>Age</th>\n",
       "      <th>Salary</th>\n",
       "      <th>Purchase Iphone</th>\n",
       "    </tr>\n",
       "  </thead>\n",
       "  <tbody>\n",
       "    <tr>\n",
       "      <th>2</th>\n",
       "      <td>Female</td>\n",
       "      <td>26</td>\n",
       "      <td>43000</td>\n",
       "      <td>0</td>\n",
       "    </tr>\n",
       "    <tr>\n",
       "      <th>3</th>\n",
       "      <td>Female</td>\n",
       "      <td>27</td>\n",
       "      <td>57000</td>\n",
       "      <td>0</td>\n",
       "    </tr>\n",
       "    <tr>\n",
       "      <th>6</th>\n",
       "      <td>Female</td>\n",
       "      <td>27</td>\n",
       "      <td>84000</td>\n",
       "      <td>0</td>\n",
       "    </tr>\n",
       "    <tr>\n",
       "      <th>7</th>\n",
       "      <td>Female</td>\n",
       "      <td>32</td>\n",
       "      <td>150000</td>\n",
       "      <td>1</td>\n",
       "    </tr>\n",
       "    <tr>\n",
       "      <th>9</th>\n",
       "      <td>Female</td>\n",
       "      <td>35</td>\n",
       "      <td>65000</td>\n",
       "      <td>0</td>\n",
       "    </tr>\n",
       "    <tr>\n",
       "      <th>...</th>\n",
       "      <td>...</td>\n",
       "      <td>...</td>\n",
       "      <td>...</td>\n",
       "      <td>...</td>\n",
       "    </tr>\n",
       "    <tr>\n",
       "      <th>392</th>\n",
       "      <td>Female</td>\n",
       "      <td>45</td>\n",
       "      <td>45000</td>\n",
       "      <td>1</td>\n",
       "    </tr>\n",
       "    <tr>\n",
       "      <th>394</th>\n",
       "      <td>Female</td>\n",
       "      <td>39</td>\n",
       "      <td>59000</td>\n",
       "      <td>0</td>\n",
       "    </tr>\n",
       "    <tr>\n",
       "      <th>395</th>\n",
       "      <td>Female</td>\n",
       "      <td>46</td>\n",
       "      <td>41000</td>\n",
       "      <td>1</td>\n",
       "    </tr>\n",
       "    <tr>\n",
       "      <th>397</th>\n",
       "      <td>Female</td>\n",
       "      <td>50</td>\n",
       "      <td>20000</td>\n",
       "      <td>1</td>\n",
       "    </tr>\n",
       "    <tr>\n",
       "      <th>399</th>\n",
       "      <td>Female</td>\n",
       "      <td>49</td>\n",
       "      <td>36000</td>\n",
       "      <td>1</td>\n",
       "    </tr>\n",
       "  </tbody>\n",
       "</table>\n",
       "<p>204 rows × 4 columns</p>\n",
       "</div>"
      ],
      "text/plain": [
       "     Gender  Age  Salary  Purchase Iphone\n",
       "2    Female   26   43000                0\n",
       "3    Female   27   57000                0\n",
       "6    Female   27   84000                0\n",
       "7    Female   32  150000                1\n",
       "9    Female   35   65000                0\n",
       "..      ...  ...     ...              ...\n",
       "392  Female   45   45000                1\n",
       "394  Female   39   59000                0\n",
       "395  Female   46   41000                1\n",
       "397  Female   50   20000                1\n",
       "399  Female   49   36000                1\n",
       "\n",
       "[204 rows x 4 columns]"
      ]
     },
     "execution_count": 12,
     "metadata": {},
     "output_type": "execute_result"
    }
   ],
   "source": [
    "female = data[data['Gender']=='Female']\n",
    "female"
   ]
  },
  {
   "cell_type": "code",
   "execution_count": 28,
   "id": "c92343a7",
   "metadata": {},
   "outputs": [],
   "source": [
    "import os\n",
    "import sklearn.neighbors as sn\n",
    "import sklearn.metrics as sm"
   ]
  },
  {
   "cell_type": "code",
   "execution_count": 29,
   "id": "88dbf9bc",
   "metadata": {},
   "outputs": [
    {
     "data": {
      "text/plain": [
       "Gender\n",
       "Female    0.377451\n",
       "Male      0.336735\n",
       "Name: Purchase Iphone, dtype: float64"
      ]
     },
     "execution_count": 29,
     "metadata": {},
     "output_type": "execute_result"
    }
   ],
   "source": [
    "m=data.groupby('Gender')['Purchase Iphone'].mean()\n",
    "m"
   ]
  },
  {
   "cell_type": "code",
   "execution_count": 30,
   "id": "a6499cb7",
   "metadata": {},
   "outputs": [
    {
     "data": {
      "text/plain": [
       "0.7141856742697079"
      ]
     },
     "execution_count": 30,
     "metadata": {},
     "output_type": "execute_result"
    }
   ],
   "source": [
    "q=m.sum()\n",
    "q"
   ]
  },
  {
   "cell_type": "code",
   "execution_count": 31,
   "id": "3dc80431",
   "metadata": {},
   "outputs": [
    {
     "data": {
      "text/plain": [
       "Gender\n",
       "Female    52.850539\n",
       "Male      47.149461\n",
       "Name: Purchase Iphone, dtype: float64"
      ]
     },
     "execution_count": 31,
     "metadata": {},
     "output_type": "execute_result"
    }
   ],
   "source": [
    "(m/q)*100"
   ]
  },
  {
   "cell_type": "code",
   "execution_count": 32,
   "id": "ba01e110",
   "metadata": {},
   "outputs": [],
   "source": [
    "d = {'Female':52.850539,'Male':47.149461}\n",
    "data['gm']=data['Gender'].map(d)\n",
    "x = data[['Age', 'Salary','gm']]\n",
    "y = data[['Purchase Iphone']]"
   ]
  },
  {
   "cell_type": "code",
   "execution_count": 34,
   "id": "fc823d36",
   "metadata": {},
   "outputs": [
    {
     "data": {
      "text/html": [
       "<div>\n",
       "<style scoped>\n",
       "    .dataframe tbody tr th:only-of-type {\n",
       "        vertical-align: middle;\n",
       "    }\n",
       "\n",
       "    .dataframe tbody tr th {\n",
       "        vertical-align: top;\n",
       "    }\n",
       "\n",
       "    .dataframe thead th {\n",
       "        text-align: right;\n",
       "    }\n",
       "</style>\n",
       "<table border=\"1\" class=\"dataframe\">\n",
       "  <thead>\n",
       "    <tr style=\"text-align: right;\">\n",
       "      <th></th>\n",
       "      <th>Age</th>\n",
       "      <th>Salary</th>\n",
       "      <th>Purchase Iphone</th>\n",
       "    </tr>\n",
       "  </thead>\n",
       "  <tbody>\n",
       "    <tr>\n",
       "      <th>count</th>\n",
       "      <td>204.000000</td>\n",
       "      <td>204.000000</td>\n",
       "      <td>204.000000</td>\n",
       "    </tr>\n",
       "    <tr>\n",
       "      <th>mean</th>\n",
       "      <td>38.411765</td>\n",
       "      <td>71759.803922</td>\n",
       "      <td>0.377451</td>\n",
       "    </tr>\n",
       "    <tr>\n",
       "      <th>std</th>\n",
       "      <td>10.859019</td>\n",
       "      <td>35595.236189</td>\n",
       "      <td>0.485942</td>\n",
       "    </tr>\n",
       "    <tr>\n",
       "      <th>min</th>\n",
       "      <td>18.000000</td>\n",
       "      <td>15000.000000</td>\n",
       "      <td>0.000000</td>\n",
       "    </tr>\n",
       "    <tr>\n",
       "      <th>25%</th>\n",
       "      <td>30.000000</td>\n",
       "      <td>44000.000000</td>\n",
       "      <td>0.000000</td>\n",
       "    </tr>\n",
       "    <tr>\n",
       "      <th>50%</th>\n",
       "      <td>37.500000</td>\n",
       "      <td>70500.000000</td>\n",
       "      <td>0.000000</td>\n",
       "    </tr>\n",
       "    <tr>\n",
       "      <th>75%</th>\n",
       "      <td>47.000000</td>\n",
       "      <td>90750.000000</td>\n",
       "      <td>1.000000</td>\n",
       "    </tr>\n",
       "    <tr>\n",
       "      <th>max</th>\n",
       "      <td>60.000000</td>\n",
       "      <td>150000.000000</td>\n",
       "      <td>1.000000</td>\n",
       "    </tr>\n",
       "  </tbody>\n",
       "</table>\n",
       "</div>"
      ],
      "text/plain": [
       "              Age         Salary  Purchase Iphone\n",
       "count  204.000000     204.000000       204.000000\n",
       "mean    38.411765   71759.803922         0.377451\n",
       "std     10.859019   35595.236189         0.485942\n",
       "min     18.000000   15000.000000         0.000000\n",
       "25%     30.000000   44000.000000         0.000000\n",
       "50%     37.500000   70500.000000         0.000000\n",
       "75%     47.000000   90750.000000         1.000000\n",
       "max     60.000000  150000.000000         1.000000"
      ]
     },
     "execution_count": 34,
     "metadata": {},
     "output_type": "execute_result"
    }
   ],
   "source": [
    "female.describe()"
   ]
  },
  {
   "cell_type": "code",
   "execution_count": 35,
   "id": "4d42ddb7",
   "metadata": {},
   "outputs": [
    {
     "data": {
      "text/plain": [
       "0    127\n",
       "1     77\n",
       "Name: Purchase Iphone, dtype: int64"
      ]
     },
     "execution_count": 35,
     "metadata": {},
     "output_type": "execute_result"
    }
   ],
   "source": [
    "female['Purchase Iphone'].value_counts()"
   ]
  },
  {
   "cell_type": "code",
   "execution_count": 36,
   "id": "51d75eb0",
   "metadata": {},
   "outputs": [
    {
     "data": {
      "text/plain": [
       "0    130\n",
       "1     66\n",
       "Name: Purchase Iphone, dtype: int64"
      ]
     },
     "execution_count": 36,
     "metadata": {},
     "output_type": "execute_result"
    }
   ],
   "source": [
    "male['Purchase Iphone'].value_counts()"
   ]
  },
  {
   "cell_type": "code",
   "execution_count": 37,
   "id": "218e9fab",
   "metadata": {},
   "outputs": [
    {
     "data": {
      "text/plain": [
       "array([26, 27, 32, 35, 48, 47, 45, 21, 28, 33, 31, 24, 18, 29, 23, 59, 22,\n",
       "       20, 30, 19, 38, 39, 37, 36, 40, 41, 34, 58, 55, 52, 46, 60, 42, 53,\n",
       "       50, 56, 51, 57, 44, 43, 49, 54], dtype=int64)"
      ]
     },
     "execution_count": 37,
     "metadata": {},
     "output_type": "execute_result"
    }
   ],
   "source": [
    "female['Age'].unique()"
   ]
  },
  {
   "cell_type": "code",
   "execution_count": 38,
   "id": "fc526cab",
   "metadata": {},
   "outputs": [
    {
     "data": {
      "text/plain": [
       "array([19, 35, 27, 25, 20, 32, 18, 29, 47, 45, 46, 48, 49, 31, 30, 23, 28,\n",
       "       22, 24, 34, 39, 26, 21, 38, 37, 42, 40, 36, 41, 33, 52, 59, 60, 56,\n",
       "       57, 55, 58, 53, 54, 43, 51], dtype=int64)"
      ]
     },
     "execution_count": 38,
     "metadata": {},
     "output_type": "execute_result"
    }
   ],
   "source": [
    "male['Age'].unique()"
   ]
  },
  {
   "cell_type": "code",
   "execution_count": 39,
   "id": "e5f4ab94",
   "metadata": {},
   "outputs": [],
   "source": [
    "x = data[['Age', 'Salary']]\n",
    "y = data[['Purchase Iphone']]\n"
   ]
  },
  {
   "cell_type": "code",
   "execution_count": 45,
   "id": "f8998709",
   "metadata": {},
   "outputs": [
    {
     "name": "stdout",
     "output_type": "stream",
     "text": [
      "k= 1 [0.995]\n",
      "k= 2 [0.995, 0.9]\n",
      "k= 3 [0.995, 0.9, 0.8975]\n",
      "k= 4 [0.995, 0.9, 0.8975, 0.8625]\n",
      "k= 5 [0.995, 0.9, 0.8975, 0.8625, 0.8725]\n",
      "k= 6 [0.995, 0.9, 0.8975, 0.8625, 0.8725, 0.8625]\n",
      "k= 7 [0.995, 0.9, 0.8975, 0.8625, 0.8725, 0.8625, 0.87]\n",
      "k= 8 [0.995, 0.9, 0.8975, 0.8625, 0.8725, 0.8625, 0.87, 0.8475]\n",
      "k= 9 [0.995, 0.9, 0.8975, 0.8625, 0.8725, 0.8625, 0.87, 0.8475, 0.8725]\n",
      "k= 10 [0.995, 0.9, 0.8975, 0.8625, 0.8725, 0.8625, 0.87, 0.8475, 0.8725, 0.8475]\n",
      "k= 11 [0.995, 0.9, 0.8975, 0.8625, 0.8725, 0.8625, 0.87, 0.8475, 0.8725, 0.8475, 0.8325]\n",
      "k= 12 [0.995, 0.9, 0.8975, 0.8625, 0.8725, 0.8625, 0.87, 0.8475, 0.8725, 0.8475, 0.8325, 0.825]\n",
      "k= 13 [0.995, 0.9, 0.8975, 0.8625, 0.8725, 0.8625, 0.87, 0.8475, 0.8725, 0.8475, 0.8325, 0.825, 0.845]\n",
      "k= 14 [0.995, 0.9, 0.8975, 0.8625, 0.8725, 0.8625, 0.87, 0.8475, 0.8725, 0.8475, 0.8325, 0.825, 0.845, 0.8425]\n",
      "k= 15 [0.995, 0.9, 0.8975, 0.8625, 0.8725, 0.8625, 0.87, 0.8475, 0.8725, 0.8475, 0.8325, 0.825, 0.845, 0.8425, 0.8325]\n",
      "k= 16 [0.995, 0.9, 0.8975, 0.8625, 0.8725, 0.8625, 0.87, 0.8475, 0.8725, 0.8475, 0.8325, 0.825, 0.845, 0.8425, 0.8325, 0.8325]\n",
      "k= 17 [0.995, 0.9, 0.8975, 0.8625, 0.8725, 0.8625, 0.87, 0.8475, 0.8725, 0.8475, 0.8325, 0.825, 0.845, 0.8425, 0.8325, 0.8325, 0.83]\n",
      "k= 18 [0.995, 0.9, 0.8975, 0.8625, 0.8725, 0.8625, 0.87, 0.8475, 0.8725, 0.8475, 0.8325, 0.825, 0.845, 0.8425, 0.8325, 0.8325, 0.83, 0.815]\n",
      "k= 19 [0.995, 0.9, 0.8975, 0.8625, 0.8725, 0.8625, 0.87, 0.8475, 0.8725, 0.8475, 0.8325, 0.825, 0.845, 0.8425, 0.8325, 0.8325, 0.83, 0.815, 0.805]\n",
      "k= 20 [0.995, 0.9, 0.8975, 0.8625, 0.8725, 0.8625, 0.87, 0.8475, 0.8725, 0.8475, 0.8325, 0.825, 0.845, 0.8425, 0.8325, 0.8325, 0.83, 0.815, 0.805, 0.8175]\n",
      "k= 21 [0.995, 0.9, 0.8975, 0.8625, 0.8725, 0.8625, 0.87, 0.8475, 0.8725, 0.8475, 0.8325, 0.825, 0.845, 0.8425, 0.8325, 0.8325, 0.83, 0.815, 0.805, 0.8175, 0.8525]\n",
      "k= 22 [0.995, 0.9, 0.8975, 0.8625, 0.8725, 0.8625, 0.87, 0.8475, 0.8725, 0.8475, 0.8325, 0.825, 0.845, 0.8425, 0.8325, 0.8325, 0.83, 0.815, 0.805, 0.8175, 0.8525, 0.8275]\n",
      "k= 23 [0.995, 0.9, 0.8975, 0.8625, 0.8725, 0.8625, 0.87, 0.8475, 0.8725, 0.8475, 0.8325, 0.825, 0.845, 0.8425, 0.8325, 0.8325, 0.83, 0.815, 0.805, 0.8175, 0.8525, 0.8275, 0.8325]\n",
      "k= 24 [0.995, 0.9, 0.8975, 0.8625, 0.8725, 0.8625, 0.87, 0.8475, 0.8725, 0.8475, 0.8325, 0.825, 0.845, 0.8425, 0.8325, 0.8325, 0.83, 0.815, 0.805, 0.8175, 0.8525, 0.8275, 0.8325, 0.8225]\n",
      "k= 25 [0.995, 0.9, 0.8975, 0.8625, 0.8725, 0.8625, 0.87, 0.8475, 0.8725, 0.8475, 0.8325, 0.825, 0.845, 0.8425, 0.8325, 0.8325, 0.83, 0.815, 0.805, 0.8175, 0.8525, 0.8275, 0.8325, 0.8225, 0.8175]\n",
      "k= 26 [0.995, 0.9, 0.8975, 0.8625, 0.8725, 0.8625, 0.87, 0.8475, 0.8725, 0.8475, 0.8325, 0.825, 0.845, 0.8425, 0.8325, 0.8325, 0.83, 0.815, 0.805, 0.8175, 0.8525, 0.8275, 0.8325, 0.8225, 0.8175, 0.8075]\n",
      "k= 27 [0.995, 0.9, 0.8975, 0.8625, 0.8725, 0.8625, 0.87, 0.8475, 0.8725, 0.8475, 0.8325, 0.825, 0.845, 0.8425, 0.8325, 0.8325, 0.83, 0.815, 0.805, 0.8175, 0.8525, 0.8275, 0.8325, 0.8225, 0.8175, 0.8075, 0.82]\n"
     ]
    }
   ],
   "source": [
    "import os\n",
    "import sklearn.neighbors as sn\n",
    "import sklearn.metrics as sm\n",
    "import numpy as np\n",
    "\n",
    "acc=[]\n",
    "for i in range(1,28):\n",
    "    knn=sn.KNeighborsClassifier(n_neighbors=i)\n",
    "    model= knn.fit(x, np.ravel(y,order='C'))\n",
    "    pred_y = model.predict(x)\n",
    "    acc.append(sm.accuracy_score(pred_y,y))\n",
    "    print('k=',i,acc)\n",
    "\n"
   ]
  },
  {
   "cell_type": "code",
   "execution_count": 47,
   "id": "37d70393",
   "metadata": {},
   "outputs": [],
   "source": [
    "max(acc)\n",
    "0.995\n",
    "k=acc.index(max(acc))+1\n",
    "k\n",
    "1\n",
    "knn=sn.KNeighborsClassifier(n_neighbors=1)\n",
    "model= knn.fit(x, np.ravel(y,order='C'))"
   ]
  },
  {
   "cell_type": "code",
   "execution_count": 48,
   "id": "e26d494c",
   "metadata": {},
   "outputs": [
    {
     "data": {
      "text/plain": [
       "[<matplotlib.lines.Line2D at 0x2c15e55edd0>]"
      ]
     },
     "execution_count": 48,
     "metadata": {},
     "output_type": "execute_result"
    },
    {
     "data": {
      "image/png": "[encoded data removed]",
      "text/plain": [
       "<Figure size 640x480 with 1 Axes>"
      ]
     },
     "metadata": {},
     "output_type": "display_data"
    }
   ],
   "source": [
    "plt.plot(range(1,28),acc)"
   ]
  },
  {
   "cell_type": "code",
   "execution_count": null,
   "id": "88726076",
   "metadata": {},
   "outputs": [],
   "source": [
    "#Gender"
   ]
  },
  {
   "cell_type": "code",
   "execution_count": 49,
   "id": "7b481f2c",
   "metadata": {},
   "outputs": [
    {
     "data": {
      "text/html": [
       "<div>\n",
       "<style scoped>\n",
       "    .dataframe tbody tr th:only-of-type {\n",
       "        vertical-align: middle;\n",
       "    }\n",
       "\n",
       "    .dataframe tbody tr th {\n",
       "        vertical-align: top;\n",
       "    }\n",
       "\n",
       "    .dataframe thead th {\n",
       "        text-align: right;\n",
       "    }\n",
       "</style>\n",
       "<table border=\"1\" class=\"dataframe\">\n",
       "  <thead>\n",
       "    <tr style=\"text-align: right;\">\n",
       "      <th></th>\n",
       "      <th>Gender</th>\n",
       "      <th>Age</th>\n",
       "      <th>Salary</th>\n",
       "      <th>Purchase Iphone</th>\n",
       "    </tr>\n",
       "  </thead>\n",
       "  <tbody>\n",
       "    <tr>\n",
       "      <th>2</th>\n",
       "      <td>Female</td>\n",
       "      <td>26</td>\n",
       "      <td>43000</td>\n",
       "      <td>0</td>\n",
       "    </tr>\n",
       "    <tr>\n",
       "      <th>3</th>\n",
       "      <td>Female</td>\n",
       "      <td>27</td>\n",
       "      <td>57000</td>\n",
       "      <td>0</td>\n",
       "    </tr>\n",
       "    <tr>\n",
       "      <th>6</th>\n",
       "      <td>Female</td>\n",
       "      <td>27</td>\n",
       "      <td>84000</td>\n",
       "      <td>0</td>\n",
       "    </tr>\n",
       "    <tr>\n",
       "      <th>7</th>\n",
       "      <td>Female</td>\n",
       "      <td>32</td>\n",
       "      <td>150000</td>\n",
       "      <td>1</td>\n",
       "    </tr>\n",
       "    <tr>\n",
       "      <th>9</th>\n",
       "      <td>Female</td>\n",
       "      <td>35</td>\n",
       "      <td>65000</td>\n",
       "      <td>0</td>\n",
       "    </tr>\n",
       "    <tr>\n",
       "      <th>...</th>\n",
       "      <td>...</td>\n",
       "      <td>...</td>\n",
       "      <td>...</td>\n",
       "      <td>...</td>\n",
       "    </tr>\n",
       "    <tr>\n",
       "      <th>392</th>\n",
       "      <td>Female</td>\n",
       "      <td>45</td>\n",
       "      <td>45000</td>\n",
       "      <td>1</td>\n",
       "    </tr>\n",
       "    <tr>\n",
       "      <th>394</th>\n",
       "      <td>Female</td>\n",
       "      <td>39</td>\n",
       "      <td>59000</td>\n",
       "      <td>0</td>\n",
       "    </tr>\n",
       "    <tr>\n",
       "      <th>395</th>\n",
       "      <td>Female</td>\n",
       "      <td>46</td>\n",
       "      <td>41000</td>\n",
       "      <td>1</td>\n",
       "    </tr>\n",
       "    <tr>\n",
       "      <th>397</th>\n",
       "      <td>Female</td>\n",
       "      <td>50</td>\n",
       "      <td>20000</td>\n",
       "      <td>1</td>\n",
       "    </tr>\n",
       "    <tr>\n",
       "      <th>399</th>\n",
       "      <td>Female</td>\n",
       "      <td>49</td>\n",
       "      <td>36000</td>\n",
       "      <td>1</td>\n",
       "    </tr>\n",
       "  </tbody>\n",
       "</table>\n",
       "<p>204 rows × 4 columns</p>\n",
       "</div>"
      ],
      "text/plain": [
       "     Gender  Age  Salary  Purchase Iphone\n",
       "2    Female   26   43000                0\n",
       "3    Female   27   57000                0\n",
       "6    Female   27   84000                0\n",
       "7    Female   32  150000                1\n",
       "9    Female   35   65000                0\n",
       "..      ...  ...     ...              ...\n",
       "392  Female   45   45000                1\n",
       "394  Female   39   59000                0\n",
       "395  Female   46   41000                1\n",
       "397  Female   50   20000                1\n",
       "399  Female   49   36000                1\n",
       "\n",
       "[204 rows x 4 columns]"
      ]
     },
     "execution_count": 49,
     "metadata": {},
     "output_type": "execute_result"
    }
   ],
   "source": [
    "female"
   ]
  },
  {
   "cell_type": "code",
   "execution_count": 50,
   "id": "dd0aa4ba",
   "metadata": {},
   "outputs": [],
   "source": [
    "x = female[['Age', 'Salary']]\n",
    "y = female[['Purchase Iphone']]"
   ]
  },
  {
   "cell_type": "code",
   "execution_count": 51,
   "id": "a6e0e5a4",
   "metadata": {},
   "outputs": [
    {
     "name": "stdout",
     "output_type": "stream",
     "text": [
      "k= 1 [0.9950980392156863]\n",
      "k= 2 [0.9950980392156863, 0.8774509803921569]\n",
      "k= 3 [0.9950980392156863, 0.8774509803921569, 0.8676470588235294]\n",
      "k= 4 [0.9950980392156863, 0.8774509803921569, 0.8676470588235294, 0.8529411764705882]\n",
      "k= 5 [0.9950980392156863, 0.8774509803921569, 0.8676470588235294, 0.8529411764705882, 0.8382352941176471]\n",
      "k= 6 [0.9950980392156863, 0.8774509803921569, 0.8676470588235294, 0.8529411764705882, 0.8382352941176471, 0.8235294117647058]\n",
      "k= 7 [0.9950980392156863, 0.8774509803921569, 0.8676470588235294, 0.8529411764705882, 0.8382352941176471, 0.8235294117647058, 0.8529411764705882]\n",
      "k= 8 [0.9950980392156863, 0.8774509803921569, 0.8676470588235294, 0.8529411764705882, 0.8382352941176471, 0.8235294117647058, 0.8529411764705882, 0.8333333333333334]\n",
      "k= 9 [0.9950980392156863, 0.8774509803921569, 0.8676470588235294, 0.8529411764705882, 0.8382352941176471, 0.8235294117647058, 0.8529411764705882, 0.8333333333333334, 0.8186274509803921]\n",
      "k= 10 [0.9950980392156863, 0.8774509803921569, 0.8676470588235294, 0.8529411764705882, 0.8382352941176471, 0.8235294117647058, 0.8529411764705882, 0.8333333333333334, 0.8186274509803921, 0.7990196078431373]\n",
      "k= 11 [0.9950980392156863, 0.8774509803921569, 0.8676470588235294, 0.8529411764705882, 0.8382352941176471, 0.8235294117647058, 0.8529411764705882, 0.8333333333333334, 0.8186274509803921, 0.7990196078431373, 0.8235294117647058]\n",
      "k= 12 [0.9950980392156863, 0.8774509803921569, 0.8676470588235294, 0.8529411764705882, 0.8382352941176471, 0.8235294117647058, 0.8529411764705882, 0.8333333333333334, 0.8186274509803921, 0.7990196078431373, 0.8235294117647058, 0.8235294117647058]\n",
      "k= 13 [0.9950980392156863, 0.8774509803921569, 0.8676470588235294, 0.8529411764705882, 0.8382352941176471, 0.8235294117647058, 0.8529411764705882, 0.8333333333333334, 0.8186274509803921, 0.7990196078431373, 0.8235294117647058, 0.8235294117647058, 0.7990196078431373]\n",
      "k= 14 [0.9950980392156863, 0.8774509803921569, 0.8676470588235294, 0.8529411764705882, 0.8382352941176471, 0.8235294117647058, 0.8529411764705882, 0.8333333333333334, 0.8186274509803921, 0.7990196078431373, 0.8235294117647058, 0.8235294117647058, 0.7990196078431373, 0.7990196078431373]\n",
      "k= 15 [0.9950980392156863, 0.8774509803921569, 0.8676470588235294, 0.8529411764705882, 0.8382352941176471, 0.8235294117647058, 0.8529411764705882, 0.8333333333333334, 0.8186274509803921, 0.7990196078431373, 0.8235294117647058, 0.8235294117647058, 0.7990196078431373, 0.7990196078431373, 0.7990196078431373]\n",
      "k= 16 [0.9950980392156863, 0.8774509803921569, 0.8676470588235294, 0.8529411764705882, 0.8382352941176471, 0.8235294117647058, 0.8529411764705882, 0.8333333333333334, 0.8186274509803921, 0.7990196078431373, 0.8235294117647058, 0.8235294117647058, 0.7990196078431373, 0.7990196078431373, 0.7990196078431373, 0.8137254901960784]\n",
      "k= 17 [0.9950980392156863, 0.8774509803921569, 0.8676470588235294, 0.8529411764705882, 0.8382352941176471, 0.8235294117647058, 0.8529411764705882, 0.8333333333333334, 0.8186274509803921, 0.7990196078431373, 0.8235294117647058, 0.8235294117647058, 0.7990196078431373, 0.7990196078431373, 0.7990196078431373, 0.8137254901960784, 0.7990196078431373]\n",
      "k= 18 [0.9950980392156863, 0.8774509803921569, 0.8676470588235294, 0.8529411764705882, 0.8382352941176471, 0.8235294117647058, 0.8529411764705882, 0.8333333333333334, 0.8186274509803921, 0.7990196078431373, 0.8235294117647058, 0.8235294117647058, 0.7990196078431373, 0.7990196078431373, 0.7990196078431373, 0.8137254901960784, 0.7990196078431373, 0.7990196078431373]\n",
      "k= 19 [0.9950980392156863, 0.8774509803921569, 0.8676470588235294, 0.8529411764705882, 0.8382352941176471, 0.8235294117647058, 0.8529411764705882, 0.8333333333333334, 0.8186274509803921, 0.7990196078431373, 0.8235294117647058, 0.8235294117647058, 0.7990196078431373, 0.7990196078431373, 0.7990196078431373, 0.8137254901960784, 0.7990196078431373, 0.7990196078431373, 0.7892156862745098]\n",
      "k= 20 [0.9950980392156863, 0.8774509803921569, 0.8676470588235294, 0.8529411764705882, 0.8382352941176471, 0.8235294117647058, 0.8529411764705882, 0.8333333333333334, 0.8186274509803921, 0.7990196078431373, 0.8235294117647058, 0.8235294117647058, 0.7990196078431373, 0.7990196078431373, 0.7990196078431373, 0.8137254901960784, 0.7990196078431373, 0.7990196078431373, 0.7892156862745098, 0.7941176470588235]\n",
      "k= 21 [0.9950980392156863, 0.8774509803921569, 0.8676470588235294, 0.8529411764705882, 0.8382352941176471, 0.8235294117647058, 0.8529411764705882, 0.8333333333333334, 0.8186274509803921, 0.7990196078431373, 0.8235294117647058, 0.8235294117647058, 0.7990196078431373, 0.7990196078431373, 0.7990196078431373, 0.8137254901960784, 0.7990196078431373, 0.7990196078431373, 0.7892156862745098, 0.7941176470588235, 0.7892156862745098]\n",
      "k= 22 [0.9950980392156863, 0.8774509803921569, 0.8676470588235294, 0.8529411764705882, 0.8382352941176471, 0.8235294117647058, 0.8529411764705882, 0.8333333333333334, 0.8186274509803921, 0.7990196078431373, 0.8235294117647058, 0.8235294117647058, 0.7990196078431373, 0.7990196078431373, 0.7990196078431373, 0.8137254901960784, 0.7990196078431373, 0.7990196078431373, 0.7892156862745098, 0.7941176470588235, 0.7892156862745098, 0.7892156862745098]\n",
      "k= 23 [0.9950980392156863, 0.8774509803921569, 0.8676470588235294, 0.8529411764705882, 0.8382352941176471, 0.8235294117647058, 0.8529411764705882, 0.8333333333333334, 0.8186274509803921, 0.7990196078431373, 0.8235294117647058, 0.8235294117647058, 0.7990196078431373, 0.7990196078431373, 0.7990196078431373, 0.8137254901960784, 0.7990196078431373, 0.7990196078431373, 0.7892156862745098, 0.7941176470588235, 0.7892156862745098, 0.7892156862745098, 0.7843137254901961]\n",
      "k= 24 [0.9950980392156863, 0.8774509803921569, 0.8676470588235294, 0.8529411764705882, 0.8382352941176471, 0.8235294117647058, 0.8529411764705882, 0.8333333333333334, 0.8186274509803921, 0.7990196078431373, 0.8235294117647058, 0.8235294117647058, 0.7990196078431373, 0.7990196078431373, 0.7990196078431373, 0.8137254901960784, 0.7990196078431373, 0.7990196078431373, 0.7892156862745098, 0.7941176470588235, 0.7892156862745098, 0.7892156862745098, 0.7843137254901961, 0.7941176470588235]\n",
      "k= 25 [0.9950980392156863, 0.8774509803921569, 0.8676470588235294, 0.8529411764705882, 0.8382352941176471, 0.8235294117647058, 0.8529411764705882, 0.8333333333333334, 0.8186274509803921, 0.7990196078431373, 0.8235294117647058, 0.8235294117647058, 0.7990196078431373, 0.7990196078431373, 0.7990196078431373, 0.8137254901960784, 0.7990196078431373, 0.7990196078431373, 0.7892156862745098, 0.7941176470588235, 0.7892156862745098, 0.7892156862745098, 0.7843137254901961, 0.7941176470588235, 0.7892156862745098]\n",
      "k= 26 [0.9950980392156863, 0.8774509803921569, 0.8676470588235294, 0.8529411764705882, 0.8382352941176471, 0.8235294117647058, 0.8529411764705882, 0.8333333333333334, 0.8186274509803921, 0.7990196078431373, 0.8235294117647058, 0.8235294117647058, 0.7990196078431373, 0.7990196078431373, 0.7990196078431373, 0.8137254901960784, 0.7990196078431373, 0.7990196078431373, 0.7892156862745098, 0.7941176470588235, 0.7892156862745098, 0.7892156862745098, 0.7843137254901961, 0.7941176470588235, 0.7892156862745098, 0.7941176470588235]\n",
      "k= 27 [0.9950980392156863, 0.8774509803921569, 0.8676470588235294, 0.8529411764705882, 0.8382352941176471, 0.8235294117647058, 0.8529411764705882, 0.8333333333333334, 0.8186274509803921, 0.7990196078431373, 0.8235294117647058, 0.8235294117647058, 0.7990196078431373, 0.7990196078431373, 0.7990196078431373, 0.8137254901960784, 0.7990196078431373, 0.7990196078431373, 0.7892156862745098, 0.7941176470588235, 0.7892156862745098, 0.7892156862745098, 0.7843137254901961, 0.7941176470588235, 0.7892156862745098, 0.7941176470588235, 0.7941176470588235]\n"
     ]
    }
   ],
   "source": [
    "acc = []\n",
    "for i in range(1,28):\n",
    "    knn=sn.KNeighborsClassifier(n_neighbors=i)\n",
    "    model=knn.fit(x, np.ravel(y,order='C'))\n",
    "    predy=model.predict(x)\n",
    "    acc.append(sm.accuracy_score(predy,y))\n",
    "    print('k=',i,acc)"
   ]
  },
  {
   "cell_type": "code",
   "execution_count": 52,
   "id": "4cbd69bc",
   "metadata": {},
   "outputs": [],
   "source": [
    "max(acc)\n",
    "0.9950980392156863\n",
    "k = acc.index(max(acc))+1\n",
    "k\n",
    "1\n",
    "knn=sn.KNeighborsClassifier(n_neighbors=1)\n",
    "model=knn.fit(x, np.ravel(y,order='C'))"
   ]
  },
  {
   "cell_type": "code",
   "execution_count": 53,
   "id": "c466490c",
   "metadata": {},
   "outputs": [
    {
     "data": {
      "text/plain": [
       "[<matplotlib.lines.Line2D at 0x2c15e5943d0>]"
      ]
     },
     "execution_count": 53,
     "metadata": {},
     "output_type": "execute_result"
    },
    {
     "data": {
      "image/png": "[encoded data removed]",
      "text/plain": [
       "<Figure size 640x480 with 1 Axes>"
      ]
     },
     "metadata": {},
     "output_type": "display_data"
    }
   ],
   "source": [
    "plt.plot(range(1,28),acc)"
   ]
  },
  {
   "cell_type": "code",
   "execution_count": 54,
   "id": "e2faa16a",
   "metadata": {},
   "outputs": [
    {
     "data": {
      "text/html": [
       "<div>\n",
       "<style scoped>\n",
       "    .dataframe tbody tr th:only-of-type {\n",
       "        vertical-align: middle;\n",
       "    }\n",
       "\n",
       "    .dataframe tbody tr th {\n",
       "        vertical-align: top;\n",
       "    }\n",
       "\n",
       "    .dataframe thead th {\n",
       "        text-align: right;\n",
       "    }\n",
       "</style>\n",
       "<table border=\"1\" class=\"dataframe\">\n",
       "  <thead>\n",
       "    <tr style=\"text-align: right;\">\n",
       "      <th></th>\n",
       "      <th>Gender</th>\n",
       "      <th>Age</th>\n",
       "      <th>Salary</th>\n",
       "      <th>Purchase Iphone</th>\n",
       "    </tr>\n",
       "  </thead>\n",
       "  <tbody>\n",
       "    <tr>\n",
       "      <th>0</th>\n",
       "      <td>Male</td>\n",
       "      <td>19</td>\n",
       "      <td>19000</td>\n",
       "      <td>0</td>\n",
       "    </tr>\n",
       "    <tr>\n",
       "      <th>1</th>\n",
       "      <td>Male</td>\n",
       "      <td>35</td>\n",
       "      <td>20000</td>\n",
       "      <td>0</td>\n",
       "    </tr>\n",
       "    <tr>\n",
       "      <th>4</th>\n",
       "      <td>Male</td>\n",
       "      <td>19</td>\n",
       "      <td>76000</td>\n",
       "      <td>0</td>\n",
       "    </tr>\n",
       "    <tr>\n",
       "      <th>5</th>\n",
       "      <td>Male</td>\n",
       "      <td>27</td>\n",
       "      <td>58000</td>\n",
       "      <td>0</td>\n",
       "    </tr>\n",
       "    <tr>\n",
       "      <th>8</th>\n",
       "      <td>Male</td>\n",
       "      <td>25</td>\n",
       "      <td>33000</td>\n",
       "      <td>0</td>\n",
       "    </tr>\n",
       "    <tr>\n",
       "      <th>...</th>\n",
       "      <td>...</td>\n",
       "      <td>...</td>\n",
       "      <td>...</td>\n",
       "      <td>...</td>\n",
       "    </tr>\n",
       "    <tr>\n",
       "      <th>390</th>\n",
       "      <td>Male</td>\n",
       "      <td>48</td>\n",
       "      <td>33000</td>\n",
       "      <td>1</td>\n",
       "    </tr>\n",
       "    <tr>\n",
       "      <th>391</th>\n",
       "      <td>Male</td>\n",
       "      <td>47</td>\n",
       "      <td>23000</td>\n",
       "      <td>1</td>\n",
       "    </tr>\n",
       "    <tr>\n",
       "      <th>393</th>\n",
       "      <td>Male</td>\n",
       "      <td>60</td>\n",
       "      <td>42000</td>\n",
       "      <td>1</td>\n",
       "    </tr>\n",
       "    <tr>\n",
       "      <th>396</th>\n",
       "      <td>Male</td>\n",
       "      <td>51</td>\n",
       "      <td>23000</td>\n",
       "      <td>1</td>\n",
       "    </tr>\n",
       "    <tr>\n",
       "      <th>398</th>\n",
       "      <td>Male</td>\n",
       "      <td>36</td>\n",
       "      <td>33000</td>\n",
       "      <td>0</td>\n",
       "    </tr>\n",
       "  </tbody>\n",
       "</table>\n",
       "<p>196 rows × 4 columns</p>\n",
       "</div>"
      ],
      "text/plain": [
       "    Gender  Age  Salary  Purchase Iphone\n",
       "0     Male   19   19000                0\n",
       "1     Male   35   20000                0\n",
       "4     Male   19   76000                0\n",
       "5     Male   27   58000                0\n",
       "8     Male   25   33000                0\n",
       "..     ...  ...     ...              ...\n",
       "390   Male   48   33000                1\n",
       "391   Male   47   23000                1\n",
       "393   Male   60   42000                1\n",
       "396   Male   51   23000                1\n",
       "398   Male   36   33000                0\n",
       "\n",
       "[196 rows x 4 columns]"
      ]
     },
     "execution_count": 54,
     "metadata": {},
     "output_type": "execute_result"
    }
   ],
   "source": [
    "male"
   ]
  },
  {
   "cell_type": "code",
   "execution_count": 55,
   "id": "d3a9be4e",
   "metadata": {},
   "outputs": [],
   "source": [
    "x = male[['Age', 'Salary']]\n",
    "y = male[['Purchase Iphone']]"
   ]
  },
  {
   "cell_type": "code",
   "execution_count": 56,
   "id": "1c4fef46",
   "metadata": {},
   "outputs": [
    {
     "name": "stdout",
     "output_type": "stream",
     "text": [
      "k= 1 [1.0]\n",
      "k= 2 [1.0, 0.8979591836734694]\n",
      "k= 3 [1.0, 0.8979591836734694, 0.8673469387755102]\n",
      "k= 4 [1.0, 0.8979591836734694, 0.8673469387755102, 0.826530612244898]\n",
      "k= 5 [1.0, 0.8979591836734694, 0.8673469387755102, 0.826530612244898, 0.8826530612244898]\n",
      "k= 6 [1.0, 0.8979591836734694, 0.8673469387755102, 0.826530612244898, 0.8826530612244898, 0.8571428571428571]\n",
      "k= 7 [1.0, 0.8979591836734694, 0.8673469387755102, 0.826530612244898, 0.8826530612244898, 0.8571428571428571, 0.8622448979591837]\n",
      "k= 8 [1.0, 0.8979591836734694, 0.8673469387755102, 0.826530612244898, 0.8826530612244898, 0.8571428571428571, 0.8622448979591837, 0.8469387755102041]\n",
      "k= 9 [1.0, 0.8979591836734694, 0.8673469387755102, 0.826530612244898, 0.8826530612244898, 0.8571428571428571, 0.8622448979591837, 0.8469387755102041, 0.826530612244898]\n",
      "k= 10 [1.0, 0.8979591836734694, 0.8673469387755102, 0.826530612244898, 0.8826530612244898, 0.8571428571428571, 0.8622448979591837, 0.8469387755102041, 0.826530612244898, 0.826530612244898]\n",
      "k= 11 [1.0, 0.8979591836734694, 0.8673469387755102, 0.826530612244898, 0.8826530612244898, 0.8571428571428571, 0.8622448979591837, 0.8469387755102041, 0.826530612244898, 0.826530612244898, 0.8163265306122449]\n",
      "k= 12 [1.0, 0.8979591836734694, 0.8673469387755102, 0.826530612244898, 0.8826530612244898, 0.8571428571428571, 0.8622448979591837, 0.8469387755102041, 0.826530612244898, 0.826530612244898, 0.8163265306122449, 0.8061224489795918]\n",
      "k= 13 [1.0, 0.8979591836734694, 0.8673469387755102, 0.826530612244898, 0.8826530612244898, 0.8571428571428571, 0.8622448979591837, 0.8469387755102041, 0.826530612244898, 0.826530612244898, 0.8163265306122449, 0.8061224489795918, 0.8214285714285714]\n",
      "k= 14 [1.0, 0.8979591836734694, 0.8673469387755102, 0.826530612244898, 0.8826530612244898, 0.8571428571428571, 0.8622448979591837, 0.8469387755102041, 0.826530612244898, 0.826530612244898, 0.8163265306122449, 0.8061224489795918, 0.8214285714285714, 0.8061224489795918]\n",
      "k= 15 [1.0, 0.8979591836734694, 0.8673469387755102, 0.826530612244898, 0.8826530612244898, 0.8571428571428571, 0.8622448979591837, 0.8469387755102041, 0.826530612244898, 0.826530612244898, 0.8163265306122449, 0.8061224489795918, 0.8214285714285714, 0.8061224489795918, 0.7908163265306123]\n",
      "k= 16 [1.0, 0.8979591836734694, 0.8673469387755102, 0.826530612244898, 0.8826530612244898, 0.8571428571428571, 0.8622448979591837, 0.8469387755102041, 0.826530612244898, 0.826530612244898, 0.8163265306122449, 0.8061224489795918, 0.8214285714285714, 0.8061224489795918, 0.7908163265306123, 0.8163265306122449]\n",
      "k= 17 [1.0, 0.8979591836734694, 0.8673469387755102, 0.826530612244898, 0.8826530612244898, 0.8571428571428571, 0.8622448979591837, 0.8469387755102041, 0.826530612244898, 0.826530612244898, 0.8163265306122449, 0.8061224489795918, 0.8214285714285714, 0.8061224489795918, 0.7908163265306123, 0.8163265306122449, 0.8112244897959183]\n",
      "k= 18 [1.0, 0.8979591836734694, 0.8673469387755102, 0.826530612244898, 0.8826530612244898, 0.8571428571428571, 0.8622448979591837, 0.8469387755102041, 0.826530612244898, 0.826530612244898, 0.8163265306122449, 0.8061224489795918, 0.8214285714285714, 0.8061224489795918, 0.7908163265306123, 0.8163265306122449, 0.8112244897959183, 0.8214285714285714]\n",
      "k= 19 [1.0, 0.8979591836734694, 0.8673469387755102, 0.826530612244898, 0.8826530612244898, 0.8571428571428571, 0.8622448979591837, 0.8469387755102041, 0.826530612244898, 0.826530612244898, 0.8163265306122449, 0.8061224489795918, 0.8214285714285714, 0.8061224489795918, 0.7908163265306123, 0.8163265306122449, 0.8112244897959183, 0.8214285714285714, 0.8112244897959183]\n",
      "k= 20 [1.0, 0.8979591836734694, 0.8673469387755102, 0.826530612244898, 0.8826530612244898, 0.8571428571428571, 0.8622448979591837, 0.8469387755102041, 0.826530612244898, 0.826530612244898, 0.8163265306122449, 0.8061224489795918, 0.8214285714285714, 0.8061224489795918, 0.7908163265306123, 0.8163265306122449, 0.8112244897959183, 0.8214285714285714, 0.8112244897959183, 0.826530612244898]\n",
      "k= 21 [1.0, 0.8979591836734694, 0.8673469387755102, 0.826530612244898, 0.8826530612244898, 0.8571428571428571, 0.8622448979591837, 0.8469387755102041, 0.826530612244898, 0.826530612244898, 0.8163265306122449, 0.8061224489795918, 0.8214285714285714, 0.8061224489795918, 0.7908163265306123, 0.8163265306122449, 0.8112244897959183, 0.8214285714285714, 0.8112244897959183, 0.826530612244898, 0.8112244897959183]\n",
      "k= 22 [1.0, 0.8979591836734694, 0.8673469387755102, 0.826530612244898, 0.8826530612244898, 0.8571428571428571, 0.8622448979591837, 0.8469387755102041, 0.826530612244898, 0.826530612244898, 0.8163265306122449, 0.8061224489795918, 0.8214285714285714, 0.8061224489795918, 0.7908163265306123, 0.8163265306122449, 0.8112244897959183, 0.8214285714285714, 0.8112244897959183, 0.826530612244898, 0.8112244897959183, 0.8112244897959183]\n",
      "k= 23 [1.0, 0.8979591836734694, 0.8673469387755102, 0.826530612244898, 0.8826530612244898, 0.8571428571428571, 0.8622448979591837, 0.8469387755102041, 0.826530612244898, 0.826530612244898, 0.8163265306122449, 0.8061224489795918, 0.8214285714285714, 0.8061224489795918, 0.7908163265306123, 0.8163265306122449, 0.8112244897959183, 0.8214285714285714, 0.8112244897959183, 0.826530612244898, 0.8112244897959183, 0.8112244897959183, 0.7959183673469388]\n",
      "k= 24 [1.0, 0.8979591836734694, 0.8673469387755102, 0.826530612244898, 0.8826530612244898, 0.8571428571428571, 0.8622448979591837, 0.8469387755102041, 0.826530612244898, 0.826530612244898, 0.8163265306122449, 0.8061224489795918, 0.8214285714285714, 0.8061224489795918, 0.7908163265306123, 0.8163265306122449, 0.8112244897959183, 0.8214285714285714, 0.8112244897959183, 0.826530612244898, 0.8112244897959183, 0.8112244897959183, 0.7959183673469388, 0.8010204081632653]\n",
      "k= 25 [1.0, 0.8979591836734694, 0.8673469387755102, 0.826530612244898, 0.8826530612244898, 0.8571428571428571, 0.8622448979591837, 0.8469387755102041, 0.826530612244898, 0.826530612244898, 0.8163265306122449, 0.8061224489795918, 0.8214285714285714, 0.8061224489795918, 0.7908163265306123, 0.8163265306122449, 0.8112244897959183, 0.8214285714285714, 0.8112244897959183, 0.826530612244898, 0.8112244897959183, 0.8112244897959183, 0.7959183673469388, 0.8010204081632653, 0.8061224489795918]\n",
      "k= 26 [1.0, 0.8979591836734694, 0.8673469387755102, 0.826530612244898, 0.8826530612244898, 0.8571428571428571, 0.8622448979591837, 0.8469387755102041, 0.826530612244898, 0.826530612244898, 0.8163265306122449, 0.8061224489795918, 0.8214285714285714, 0.8061224489795918, 0.7908163265306123, 0.8163265306122449, 0.8112244897959183, 0.8214285714285714, 0.8112244897959183, 0.826530612244898, 0.8112244897959183, 0.8112244897959183, 0.7959183673469388, 0.8010204081632653, 0.8061224489795918, 0.8010204081632653]\n",
      "k= 27 [1.0, 0.8979591836734694, 0.8673469387755102, 0.826530612244898, 0.8826530612244898, 0.8571428571428571, 0.8622448979591837, 0.8469387755102041, 0.826530612244898, 0.826530612244898, 0.8163265306122449, 0.8061224489795918, 0.8214285714285714, 0.8061224489795918, 0.7908163265306123, 0.8163265306122449, 0.8112244897959183, 0.8214285714285714, 0.8112244897959183, 0.826530612244898, 0.8112244897959183, 0.8112244897959183, 0.7959183673469388, 0.8010204081632653, 0.8061224489795918, 0.8010204081632653, 0.8010204081632653]\n"
     ]
    }
   ],
   "source": [
    "acc = []\n",
    "for i in range(1,28):\n",
    "    knn=sn.KNeighborsClassifier(n_neighbors=i)\n",
    "    model=knn.fit(x, np.ravel(y,order='C'))\n",
    "    predy=model.predict(x)\n",
    "    acc.append(sm.accuracy_score(predy,y))\n",
    "    print('k=',i,acc)"
   ]
  },
  {
   "cell_type": "code",
   "execution_count": 57,
   "id": "e754ae62",
   "metadata": {},
   "outputs": [],
   "source": [
    "max(acc)\n",
    "1.0\n",
    "k = acc.index(max(acc))+1\n",
    "k\n",
    "1\n",
    "knn=sn.KNeighborsClassifier(n_neighbors=1)\n",
    "model=knn.fit(x, np.ravel(y,order='C'))"
   ]
  },
  {
   "cell_type": "code",
   "execution_count": 58,
   "id": "0427f6a3",
   "metadata": {},
   "outputs": [
    {
     "data": {
      "text/plain": [
       "[<matplotlib.lines.Line2D at 0x2c15e633690>]"
      ]
     },
     "execution_count": 58,
     "metadata": {},
     "output_type": "execute_result"
    },
    {
     "data": {
      "image/png": "[encoded data removed]",
      "text/plain": [
       "<Figure size 640x480 with 1 Axes>"
      ]
     },
     "metadata": {},
     "output_type": "display_data"
    }
   ],
   "source": [
    "plt.plot(range(1,28),acc)"
   ]
  },
  {
   "cell_type": "code",
   "execution_count": null,
   "id": "c88fd0bc",
   "metadata": {},
   "outputs": [],
   "source": []
  }
 ],
 "metadata": {
  "kernelspec": {
   "display_name": "Python 3 (ipykernel)",
   "language": "python",
   "name": "python3"
  },
  "language_info": {
   "codemirror_mode": {
    "name": "ipython",
    "version": 3
   },
   "file_extension": ".py",
   "mimetype": "text/x-python",
   "name": "python",
   "nbconvert_exporter": "python",
   "pygments_lexer": "ipython3",
   "version": "3.11.4"
  }
 },
 "nbformat": 4,
 "nbformat_minor": 5
}
